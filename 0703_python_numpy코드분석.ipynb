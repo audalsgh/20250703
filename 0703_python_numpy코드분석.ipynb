{
  "nbformat": 4,
  "nbformat_minor": 0,
  "metadata": {
    "colab": {
      "provenance": [],
      "gpuType": "T4",
      "authorship_tag": "ABX9TyPF4G11KQ0iafKiQrkcMYQr",
      "include_colab_link": true
    },
    "kernelspec": {
      "name": "python3",
      "display_name": "Python 3"
    },
    "language_info": {
      "name": "python"
    },
    "accelerator": "GPU"
  },
  "cells": [
    {
      "cell_type": "markdown",
      "metadata": {
        "id": "view-in-github",
        "colab_type": "text"
      },
      "source": [
        "<a href=\"https://colab.research.google.com/github/audalsgh/20250703/blob/main/0703_python_numpy%EC%BD%94%EB%93%9C%EB%B6%84%EC%84%9D.ipynb\" target=\"_parent\"><img src=\"https://colab.research.google.com/assets/colab-badge.svg\" alt=\"Open In Colab\"/></a>"
      ]
    },
    {
      "cell_type": "code",
      "execution_count": 24,
      "metadata": {
        "colab": {
          "base_uri": "https://localhost:8080/"
        },
        "id": "r22WX5zYopJ_",
        "outputId": "c94b6a38-e766-41b1-eb81-c52e8a57f500"
      },
      "outputs": [
        {
          "output_type": "stream",
          "name": "stdout",
          "text": [
            ":red_car: 자율주행 NumPy 기초 학습 시작!\n",
            ":package: NumPy 버전: 2.0.2\n",
            "\n",
            "=== 1. NumPy 배열 기초 ===\n",
            ":bar_chart: 1-1. 센서 거리 데이터\n",
            "[]로 생성한 원본 리스트: [8.5, 12.3, 15.7, 2.1, 9.8]\n",
            "리스트 타입: <class 'list'>\n",
            "np.array()를 거쳐 만든 NumPy 배열: [ 8.5 12.3 15.7  2.1  9.8]\n",
            "NumPy 타입: <class 'numpy.ndarray'>\n",
            "배열 모양: (5,)\n",
            "배열 크기: 5\n",
            "\n",
            ":bar_chart: 1-2. np.zeros(), np.ones(), np.arange(0,10,2) 등의 다양한 배열 생성 방법\n",
            "0으로 채운 배열: [0. 0. 0. 0. 0.]\n",
            "1로 채운 배열: [1. 1. 1. 1.]\n",
            "범위 배열 (0~10, 2씩): [0 2 4 6 8]\n",
            "구간 배열 (0~100, 5개): [  0.  25.  50.  75. 100.]\n"
          ]
        }
      ],
      "source": [
        "# 1단계: NumPy 기초 - 자율주행 센서 데이터 처리\n",
        "# 코랩에서 바로 실행 가능!\n",
        "import numpy as np\n",
        "\n",
        "print(\":red_car: 자율주행 NumPy 기초 학습 시작!\")\n",
        "print(\":package: NumPy 버전:\", np.__version__)\n",
        "print()\n",
        "\n",
        "# ===== 1. NumPy 배열 기초 =====\n",
        "print(\"=== 1. NumPy 배열 기초 ===\")\n",
        "\n",
        "# 1-1. 리스트를 NumPy 배열로 변환\n",
        "print(\":bar_chart: 1-1. 센서 거리 데이터\")\n",
        "sensor_distances = [8.5, 12.3, 15.7, 2.1, 9.8]  # 파이썬 리스트\n",
        "print(\"[]로 생성한 원본 리스트:\", sensor_distances)\n",
        "print(\"리스트 타입:\", type(sensor_distances))\n",
        "\n",
        "# NumPy 배열로 변환\n",
        "np_distances = np.array(sensor_distances)\n",
        "print(\"np.array()를 거쳐 만든 NumPy 배열:\", np_distances)\n",
        "print(\"NumPy 타입:\", type(np_distances))\n",
        "print(\"배열 모양:\", np_distances.shape)\n",
        "print(\"배열 크기:\", np_distances.size)\n",
        "print()\n",
        "\n",
        "# 1-2. 직접 배열 생성\n",
        "print(\":bar_chart: 1-2. np.zeros(), np.ones(), np.arange(0,10,2) 등의 다양한 배열 생성 방법\")\n",
        "zeros_array = np.zeros(5)  # 0으로 채운 배열\n",
        "ones_array = np.ones(4)    # 1로 채운 배열\n",
        "range_array = np.arange(0, 10, 2)  # 0부터 10까지 2씩 증가\n",
        "linspace_array = np.linspace(0, 100, 5)  # 0부터 100까지 5개 구간\n",
        "\n",
        "print(\"0으로 채운 배열:\", zeros_array)\n",
        "print(\"1로 채운 배열:\", ones_array)\n",
        "print(\"범위 배열 (0~10, 2씩):\", range_array)\n",
        "print(\"구간 배열 (0~100, 5개):\", linspace_array)"
      ]
    },
    {
      "cell_type": "code",
      "source": [
        "# ===== 2. 배열 연산 =====\n",
        "print(\"=== 2. 배열 연산 ===\")\n",
        "\n",
        "# 2-1. 기본 산술 연산\n",
        "print(\":bar_chart: 2-1. 센서 데이터 계산\")\n",
        "distances = np.array([8.5, 12.3, 15.7, 2.1, 9.8])\n",
        "print(\"원본 거리:\", distances,'\\n')\n",
        "\n",
        "# 모든 값에 동일한 연산 적용\n",
        "distances_in_cm = distances * 100  # 미터를 센티미터로\n",
        "distances_plus_offset = distances + 1.5  # 모든 값에 1.5 더하기\n",
        "\n",
        "print(\"(distance * 100, distancex + 1.5) 연산을 각각 적용\")\n",
        "print(\"센티미터 변환:\", distances_in_cm)\n",
        "print(\"오프셋 적용:\", distances_plus_offset)\n",
        "print()\n",
        "\n",
        "# 2-2. 배열 간 연산\n",
        "print(\":bar_chart: 2-2. 두 센서 데이터 비교\")\n",
        "front_sensors = np.array([8.5, 12.3, 15.7])\n",
        "rear_sensors = np.array([6.2, 9.1, 13.4])\n",
        "\n",
        "print(\"전방 센서:\", front_sensors)\n",
        "print(\"후방 센서:\", rear_sensors)\n",
        "print(\"전방센서값 - 후방센서값:\", front_sensors - rear_sensors)\n",
        "print(\"평균 거리:\", (front_sensors + rear_sensors) / 2)"
      ],
      "metadata": {
        "colab": {
          "base_uri": "https://localhost:8080/"
        },
        "id": "auPQiQKM2Pda",
        "outputId": "d14d5272-3153-4122-9a4f-5d04c62291e0"
      },
      "execution_count": 30,
      "outputs": [
        {
          "output_type": "stream",
          "name": "stdout",
          "text": [
            "=== 2. 배열 연산 ===\n",
            ":bar_chart: 2-1. 센서 데이터 계산\n",
            "원본 거리: [ 8.5 12.3 15.7  2.1  9.8] \n",
            "\n",
            "(distance * 100, distancex + 1.5) 연산을 각각 적용\n",
            "센티미터 변환: [ 850. 1230. 1570.  210.  980.]\n",
            "오프셋 적용: [10.  13.8 17.2  3.6 11.3]\n",
            "\n",
            ":bar_chart: 2-2. 두 센서 데이터 비교\n",
            "전방 센서: [ 8.5 12.3 15.7]\n",
            "후방 센서: [ 6.2  9.1 13.4]\n",
            "전방센서값 - 후방센서값: [2.3 3.2 2.3]\n",
            "평균 거리: [ 7.35 10.7  14.55]\n"
          ]
        }
      ]
    },
    {
      "cell_type": "code",
      "source": [
        "# ===== 3. 배열 통계 함수 =====\n",
        "print(\"=== 3. 배열 통계 함수 ===\")\n",
        "\n",
        "print(\":bar_chart: 3-1. 센서 데이터 통계\")\n",
        "all_distances = np.array([8.5, 12.3, 15.7, 2.1, 9.8, 6.2, 11.4, 3.9])\n",
        "print(\"전체 센서 데이터:\", all_distances,'\\n')\n",
        "\n",
        "print(\"np.max(), np.min(), np.mean() 등의 통계 메소드로 구한 값들\")\n",
        "print(\"최대값:\", np.max(all_distances))\n",
        "print(\"최소값:\", np.min(all_distances))\n",
        "print(\"평균값:\", np.mean(all_distances))\n",
        "print(\"중간값:\", np.median(all_distances))\n",
        "print(\"표준편차:\", np.std(all_distances))\n",
        "print(\"합계:\", np.sum(all_distances))\n",
        "print()\n",
        "\n",
        "# 3-2. 인덱스 찾기\n",
        "print(\":bar_chart: 3-2. 특정 값의 위치 찾기\\n\")\n",
        "print(\"np.argmax(), np.argmin() 메소드로 np.array의 최대 최소를 찾을수 있다\")\n",
        "max_index = np.argmax(all_distances)  # 최대값의 인덱스\n",
        "min_index = np.argmin(all_distances)  # 최소값의 인덱스\n",
        "\n",
        "print(f\"가장 먼 거리: {all_distances[max_index]}m (인덱스: {max_index})\")\n",
        "print(f\"가장 가까운 거리: {all_distances[min_index]}m (인덱스: {min_index})\")"
      ],
      "metadata": {
        "colab": {
          "base_uri": "https://localhost:8080/"
        },
        "id": "qTZ-ET3E2SaW",
        "outputId": "59192939-6948-4b52-ef55-fc69dc1ffe75"
      },
      "execution_count": 38,
      "outputs": [
        {
          "output_type": "stream",
          "name": "stdout",
          "text": [
            "=== 3. 배열 통계 함수 ===\n",
            ":bar_chart: 3-1. 센서 데이터 통계\n",
            "전체 센서 데이터: [ 8.5 12.3 15.7  2.1  9.8  6.2 11.4  3.9] \n",
            "\n",
            "np.max(), np.min(), np.mean() 등의 통계 메소드로 구한 값들\n",
            "최대값: 15.7\n",
            "최소값: 2.1\n",
            "평균값: 8.7375\n",
            "중간값: 9.15\n",
            "표준편차: 4.232888346035128\n",
            "합계: 69.9\n",
            "\n",
            ":bar_chart: 3-2. 특정 값의 위치 찾기\n",
            "\n",
            "np.argmax(), np.argmin() 메소드로 np.array의 최대 최소를 찾을수 있다\n",
            "가장 먼 거리: 15.7m (인덱스: 2)\n",
            "가장 가까운 거리: 2.1m (인덱스: 3)\n"
          ]
        }
      ]
    },
    {
      "cell_type": "code",
      "source": [
        "# ===== 4. 조건부 numpy 필터링 =====\n",
        "print(\"=== 4. 조건부 필터링 ===\")\n",
        "\n",
        "# 4-1. 조건으로 데이터 선택\n",
        "print(\":bar_chart: 4-1. 위험 거리 감지 (5m 이하)\")\n",
        "dangerous_mask = all_distances <= 5.0  # 조건 마스크 생성\n",
        "print(\"조건 마스크, 필터생성:\", dangerous_mask,'\\n')\n",
        "\n",
        "dangerous_distances = all_distances[dangerous_mask]  # 조건에 맞는 값들\n",
        "safe_distances = all_distances[all_distances > 5.0]  # 한 줄로 표현\n",
        "\n",
        "print(\"위험 거리:\", dangerous_distances)\n",
        "print(\"안전 거리:\", safe_distances)\n",
        "print(\"위험 센서 개수:\", len(dangerous_distances))\n",
        "print(\"안전 센서 개수:\", len(safe_distances))\n",
        "print()\n",
        "\n",
        "# 4-2. 복합 조건\n",
        "print(\":bar_chart: 4-2. 복합 조건 (5m 이하 OR 15m 이상)\")\n",
        "extreme_distances = all_distances[(all_distances <= 5.0) | (all_distances >= 15.0)]\n",
        "print(\"극한 거리 (너무 가깝거나 너무 먼):\", extreme_distances)\n",
        "\n",
        "normal_distances = all_distances[(all_distances > 5.0) & (all_distances < 15.0)]\n",
        "print(\"정상 범위 거리:\", normal_distances)"
      ],
      "metadata": {
        "colab": {
          "base_uri": "https://localhost:8080/"
        },
        "id": "8dgVjb-82eYN",
        "outputId": "7b7b7888-c517-44f7-dfb1-3926eced93e0"
      },
      "execution_count": 41,
      "outputs": [
        {
          "output_type": "stream",
          "name": "stdout",
          "text": [
            "=== 4. 조건부 필터링 ===\n",
            ":bar_chart: 4-1. 위험 거리 감지 (5m 이하)\n",
            "조건 마스크, 필터생성: [False False False  True False False False  True] \n",
            "\n",
            "위험 거리: [2.1 3.9]\n",
            "안전 거리: [ 8.5 12.3 15.7  9.8  6.2 11.4]\n",
            "위험 센서 개수: 2\n",
            "안전 센서 개수: 6\n",
            "\n",
            ":bar_chart: 4-2. 복합 조건 (5m 이하 OR 15m 이상)\n",
            "극한 거리 (너무 가깝거나 너무 먼): [15.7  2.1  3.9]\n",
            "정상 범위 거리: [ 8.5 12.3  9.8  6.2 11.4]\n"
          ]
        }
      ]
    },
    {
      "cell_type": "code",
      "source": [
        "# 5-1. 2D 센서 배열 생성\n",
        "print(\"=== 5. 2차원 np 배열===\")\n",
        "print(\":bar_chart: 5-1. 다방향 센서 매트릭스\")\n",
        "# 4x4 센서 그리드 (전방, 우측, 후방, 좌측)\n",
        "sensor_matrix = np.array([\n",
        "    [8.5, 12.3, 15.7, 11.2],  # 전방 4개 센서\n",
        "    [9.1, 6.8, 13.4, 7.5],    # 우측 4개 센서\n",
        "    [10.2, 8.9, 14.1, 9.7],   # 후방 4개 센서\n",
        "    [7.3, 11.6, 12.8, 6.4]    # 좌측 4개 센서\n",
        "])\n",
        "\n",
        "print(\"센서 행렬:\")\n",
        "print(sensor_matrix)\n",
        "print(\"행렬 모양 (행,열)은 .shape:\", sensor_matrix.shape)  # (행, 열)\n",
        "print(\"행렬 원소 갯수는 .size:\", sensor_matrix.size)\n",
        "print()\n",
        "\n",
        "# 5-2. 행/열별 연산\n",
        "print(\":bar_chart: 5-2. 방향별 센서 분석\")\n",
        "print(\"전방 센서 (첫 번째 행):\", sensor_matrix[0])\n",
        "print(\"전방 센서 평균 np.mean():\", np.mean(sensor_matrix[0]),'\\n')\n",
        "\n",
        "print(\"모든 방향 평균은 enumerate()함수와 for문으로 계산해냄:\")\n",
        "direction_names = ['전방', '우측', '후방', '좌측']\n",
        "for i, direction in enumerate(direction_names):\n",
        "    avg_distance = np.mean(sensor_matrix[i])\n",
        "    print(f\"  {direction}: {avg_distance:.2f}m\")\n",
        "print()\n",
        "\n",
        "# 5-3. 전체 매트릭스 연산\n",
        "print(\":bar_chart: 5-3. 전체 센서 통계\")\n",
        "print(\"전체 평균:\", np.mean(sensor_matrix))\n",
        "print(\"전체 최대:\", np.max(sensor_matrix))\n",
        "print(\"전체 최소:\", np.min(sensor_matrix))\n",
        "print()\n",
        "\n",
        "# 각 열 (센서 위치)별 평균\n",
        "column_averages = np.mean(sensor_matrix, axis=0)  # axis=0: 열 방향으로 평균\n",
        "print(\"열벡터 방향 평균:\", column_averages)\n",
        "\n",
        "# 각 행 (방향)별 평균\n",
        "row_averages = np.mean(sensor_matrix, axis=1)  # axis=1: 행 방향으로 평균\n",
        "print(\"행방향 평균:\", row_averages)"
      ],
      "metadata": {
        "colab": {
          "base_uri": "https://localhost:8080/"
        },
        "id": "zT8JkZMm2kO5",
        "outputId": "c3e9fd4b-c6b0-4eb3-bbb1-70d22a1939a1"
      },
      "execution_count": 55,
      "outputs": [
        {
          "output_type": "stream",
          "name": "stdout",
          "text": [
            "=== 5. 2차원 np 배열===\n",
            ":bar_chart: 5-1. 다방향 센서 매트릭스\n",
            "센서 행렬:\n",
            "[[ 8.5 12.3 15.7 11.2]\n",
            " [ 9.1  6.8 13.4  7.5]\n",
            " [10.2  8.9 14.1  9.7]\n",
            " [ 7.3 11.6 12.8  6.4]]\n",
            "행렬 모양 (행,열)은 .shape: (4, 4)\n",
            "행렬 원소 갯수는 .size: 16\n",
            "\n",
            ":bar_chart: 5-2. 방향별 센서 분석\n",
            "전방 센서 (첫 번째 행): [ 8.5 12.3 15.7 11.2]\n",
            "전방 센서 평균 np.mean(): 11.925 \n",
            "\n",
            "모든 방향 평균은 enumerate()함수와 for문으로 계산해냄:\n",
            "  전방: 11.93m\n",
            "  우측: 9.20m\n",
            "  후방: 10.73m\n",
            "  좌측: 9.53m\n",
            "\n",
            ":bar_chart: 5-3. 전체 센서 통계\n",
            "전체 평균: 10.34375\n",
            "전체 최대: 15.7\n",
            "전체 최소: 6.4\n",
            "\n",
            "열벡터 방향 평균: [ 8.775  9.9   14.     8.7  ]\n",
            "행방향 평균: [11.925  9.2   10.725  9.525]\n"
          ]
        }
      ]
    },
    {
      "cell_type": "code",
      "source": [
        "# ===== 6. GPS 좌표 처리 =====\n",
        "print(\"=== 6. GPS 좌표 처리 ===\")\n",
        "\n",
        "# 6-1. 위치 벡터\n",
        "print(\":bar_chart: 6-1. 현재 위치와 목적지\")\n",
        "current_pos = np.array([127.123, 37.456])  # [경도, 위도]\n",
        "destination = np.array([127.145, 37.478])\n",
        "\n",
        "print(\"현재 위치:\", current_pos)\n",
        "print(\"목적지:\", destination,'\\n')\n",
        "# 이동 벡터 계산\n",
        "print(\"이동한 거리 벡터는 (현재위치 위도,경도 - 목적지의 위도,경도)로 계산\")\n",
        "movement_vector = destination - current_pos\n",
        "print(\"이동 벡터:\", movement_vector)\n",
        "print(\"경도 이동:\", movement_vector[0])\n",
        "print(\"위도 이동:\", movement_vector[1])\n",
        "print()\n",
        "\n",
        "# 6-2. 거리 계산\n",
        "print(\":bar_chart: 6-2.\")\n",
        "print(\"직선 거리 계산은 피타고라스 sqrt()\")\n",
        "print(\"맨하탄 거리 계산은 np.sum(np.abs())\\n\")\n",
        "\n",
        "# 유클리드 거리 공식: sqrt((x2-x1)^2 + (y2-y1)^2)\n",
        "distance = np.sqrt(np.sum(movement_vector**2))\n",
        "print(\"직선 거리:\", distance)\n",
        "\n",
        "# 맨하탄 거리 (격자 도로에서 실제 이동 거리)\n",
        "manhattan_distance = np.sum(np.abs(movement_vector))\n",
        "print(\"맨하탄 거리:\", manhattan_distance)"
      ],
      "metadata": {
        "colab": {
          "base_uri": "https://localhost:8080/"
        },
        "id": "CKJe6c91_SLS",
        "outputId": "e7119ec5-862b-4a03-df7a-8989e87ee292"
      },
      "execution_count": 59,
      "outputs": [
        {
          "output_type": "stream",
          "name": "stdout",
          "text": [
            "=== 6. GPS 좌표 처리 ===\n",
            ":bar_chart: 6-1. 현재 위치와 목적지\n",
            "현재 위치: [127.123  37.456]\n",
            "목적지: [127.145  37.478] \n",
            "\n",
            "이동한 거리 벡터는 (현재위치 위도,경도 - 목적지의 위도,경도)로 계산\n",
            "이동 벡터: [0.022 0.022]\n",
            "경도 이동: 0.02199999999999136\n",
            "위도 이동: 0.021999999999998465\n",
            "\n",
            ":bar_chart: 6-2.\n",
            "직선 거리 계산은 피타고라스 sqrt()\n",
            "맨하탄 거리 계산은 np.sum(np.abs())\n",
            "\n",
            "직선 거리: 0.031112698372200896\n",
            "맨하탄 거리: 0.043999999999989825\n"
          ]
        }
      ]
    },
    {
      "cell_type": "code",
      "source": [
        "# ===== 7. 경로 생성 =====\n",
        "print(\"=== 7. 경로 생성 ===\")\n",
        "\n",
        "# 7-1. 직선 경로 포인트 생성\n",
        "print(\":bar_chart: 7-1. 자동 경로 생성\")\n",
        "print(\"현재위치의 위도,경도에서 목적지의 위도,경도까지 np.linspace()로 경유지를 만듬\\n\")\n",
        "num_waypoints = 8\n",
        "route_x = np.linspace(current_pos[0], destination[0], num_waypoints)\n",
        "route_y = np.linspace(current_pos[1], destination[1], num_waypoints)\n",
        "\n",
        "print(\"경로 X 좌표:\", route_x)\n",
        "print(\"경로 Y 좌표:\", route_y)\n",
        "print()\n",
        "\n",
        "# 좌표를 하나의 2D 배열로 결합\n",
        "print(\"np.stack() 메소드로 x좌표, y좌표를 하나의 행렬로 만든다.\")\n",
        "print(\"(axis = 0 이면 단순 합쳐진 2차원의 결과)\")\n",
        "route_points = np.column_stack((route_x, route_y))\n",
        "print(\"경로 포인트 매트릭스:\")\n",
        "print(route_points)\n",
        "print(\"경로 행렬 형태:\", route_points.shape)\n",
        "print()\n",
        "\n",
        "# 7-2. 각 구간별 거리 계산\n",
        "print(\":bar_chart: 7-2. 구간별 이동 거리\")\n",
        "print(\"경유지 마다 위도,경도 차이를 피타고라스 계산으로 얻어내는 for문\")\n",
        "\n",
        "# 연속된 포인트 간 거리 계산\n",
        "segment_distances = []\n",
        "for i in range(len(route_points) - 1):\n",
        "    point1 = route_points[i]\n",
        "    point2 = route_points[i + 1]\n",
        "    segment_dist = np.sqrt(np.sum((point2 - point1)**2))\n",
        "    segment_distances.append(segment_dist)\n",
        "    print(f\"구간 {i+1}: {segment_dist:.6f}\")\n",
        "\n",
        "total_route_distance = np.sum(segment_distances)\n",
        "print(f\"경로의 총 거리 합: {total_route_distance:.6f}\")\n",
        "print()"
      ],
      "metadata": {
        "colab": {
          "base_uri": "https://localhost:8080/"
        },
        "id": "HFl3dIA_2mAJ",
        "outputId": "4b367f71-31d1-4a61-fc86-400e559a875d"
      },
      "execution_count": 69,
      "outputs": [
        {
          "output_type": "stream",
          "name": "stdout",
          "text": [
            "=== 7. 경로 생성 ===\n",
            ":bar_chart: 7-1. 자동 경로 생성\n",
            "현재위치의 위도,경도에서 목적지의 위도,경도까지 np.linspace()로 경유지를 만듬\n",
            "\n",
            "경로 X 좌표: [127.123      127.12614286 127.12928571 127.13242857 127.13557143\n",
            " 127.13871429 127.14185714 127.145     ]\n",
            "경로 Y 좌표: [37.456      37.45914286 37.46228571 37.46542857 37.46857143 37.47171429\n",
            " 37.47485714 37.478     ]\n",
            "\n",
            "np.stack() 메소드로 x좌표, y좌표를 하나의 행렬로 만든다.\n",
            "(axis = 0 이면 단순 합쳐진 2차원의 결과)\n",
            "경로 포인트 매트릭스:\n",
            "[[127.123       37.456     ]\n",
            " [127.12614286  37.45914286]\n",
            " [127.12928571  37.46228571]\n",
            " [127.13242857  37.46542857]\n",
            " [127.13557143  37.46857143]\n",
            " [127.13871429  37.47171429]\n",
            " [127.14185714  37.47485714]\n",
            " [127.145       37.478     ]]\n",
            "경로 행렬 형태: (8, 2)\n",
            "\n",
            ":bar_chart: 7-2. 구간별 이동 거리\n",
            "경유지 마다 위도,경도 차이를 피타고라스 계산으로 얻어내는 for문\n",
            "구간 1: 0.004445\n",
            "구간 2: 0.004445\n",
            "구간 3: 0.004445\n",
            "구간 4: 0.004445\n",
            "구간 5: 0.004445\n",
            "구간 6: 0.004445\n",
            "구간 7: 0.004445\n",
            "경로의 총 거리 합: 0.031113\n",
            "\n"
          ]
        }
      ]
    },
    {
      "cell_type": "code",
      "source": [
        "# ===== 8. 실전 응용 - 장애물 회피 =====\n",
        "print(\"=== 8. 실전 응용 - 장애물 회피 ===\")\n",
        "\n",
        "# 8-1. 장애물 위치\n",
        "print(\":bar_chart: 8-1. 장애물 감지 및 분석\")\n",
        "obstacles = np.array([\n",
        "    [127.130, 37.460],  # 장애물 1\n",
        "    [127.135, 37.465],  # 장애물 2\n",
        "    [127.140, 37.470]   # 장애물 3\n",
        "])\n",
        "\n",
        "print(\"감지된 장애물 3개 위치 정의:\")\n",
        "print(obstacles)\n",
        "print()\n",
        "\n",
        "print(\"현재 위치에서 각 장애물까지의 거리 역시 np.sqrt(np.sum()**2)으로 계산\")\n",
        "obstacle_distances = []\n",
        "for i, obstacle in enumerate(obstacles):\n",
        "    dist = np.sqrt(np.sum((obstacle - current_pos)**2))\n",
        "    obstacle_distances.append(dist)\n",
        "    print(f\"장애물 {i+1}까지 거리: {dist:.6f}\")\n",
        "\n",
        "# 가장 가까운 장애물 찾기\n",
        "print(\"np.argmin() 메소드로 최대,최소 인덱스를 얻어냄\")\n",
        "closest_obstacle_index = np.argmin(obstacle_distances)\n",
        "closest_distance = obstacle_distances[closest_obstacle_index]\n",
        "print(f\"가장 가까운 장애물: {closest_obstacle_index+1}번 (거리: {closest_distance:.6f})\")\n",
        "print()\n",
        "\n",
        "# 8-2. 안전 반경 체크\n",
        "print(\":bar_chart: 8-2. 안전 반경 체크\")\n",
        "safety_radius = 0.005  # 대략 500m 정도\n",
        "dangerous_obstacles = []\n",
        "\n",
        "for i, dist in enumerate(obstacle_distances):\n",
        "    if dist <= safety_radius:\n",
        "        dangerous_obstacles.append(i+1)\n",
        "        print(f\":warning: 장애물 {i+1}: 위험 구역 (거리: {dist:.6f})\")\n",
        "    else:\n",
        "        print(f\":white_check_mark: 장애물 {i+1}: 안전 (거리: {dist:.6f})\")\n",
        "\n",
        "if dangerous_obstacles:\n",
        "    print(f\"총 {len(dangerous_obstacles)}개 장애물이 위험 구역에 있습니다!\")\n",
        "else:\n",
        "    print(\"모든 장애물이 안전 거리 0.005 밖에 있습니다.\")"
      ],
      "metadata": {
        "colab": {
          "base_uri": "https://localhost:8080/"
        },
        "id": "gAeQ5Ic72wcj",
        "outputId": "a6bedc27-8573-4913-d67a-ac387fd2a6bd"
      },
      "execution_count": 79,
      "outputs": [
        {
          "output_type": "stream",
          "name": "stdout",
          "text": [
            "=== 8. 실전 응용 - 장애물 회피 ===\n",
            ":bar_chart: 8-1. 장애물 감지 및 분석\n",
            "감지된 장애물 3개 위치 정의:\n",
            "[[127.13   37.46 ]\n",
            " [127.135  37.465]\n",
            " [127.14   37.47 ]]\n",
            "\n",
            "현재 위치에서 각 장애물까지의 거리 역시 np.sqrt(np.sum()**2)으로 계산\n",
            "장애물 1까지 거리: 0.008062\n",
            "장애물 2까지 거리: 0.015000\n",
            "장애물 3까지 거리: 0.022023\n",
            "np.argmin() 메소드로 최대,최소 인덱스를 얻어냄\n",
            "가장 가까운 장애물: 1번 (거리: 0.008062)\n",
            "\n",
            ":bar_chart: 8-2. 안전 반경 체크\n",
            ":white_check_mark: 장애물 1: 안전 (거리: 0.008062)\n",
            ":white_check_mark: 장애물 2: 안전 (거리: 0.015000)\n",
            ":white_check_mark: 장애물 3: 안전 (거리: 0.022023)\n",
            "모든 장애물이 안전 거리 0.005 밖에 있습니다.\n"
          ]
        }
      ]
    },
    {
      "cell_type": "code",
      "source": [
        "print(\":mortar_board: NumPy 기초 학습 완료!\")\n",
        "print(\":books: 학습한 내용:\")\n",
        "print(\"   :white_check_mark: 배열 생성 및 기본 연산\")\n",
        "print(\"   :white_check_mark: 통계 함수 (평균, 최대, 최소 등)\")\n",
        "print(\"   :white_check_mark: 조건부 필터링 (위험 감지)\")\n",
        "print(\"   :white_check_mark: 2D 배열 (센서 매트릭스)\")\n",
        "print(\"   :white_check_mark: GPS 좌표 처리\")\n",
        "print(\"   :white_check_mark: 경로 생성 및 거리 계산\")\n",
        "print(\"   :white_check_mark: 장애물 감지 및 안전 반경 체크\")\n",
        "print(\"\\n:red_car: 다음은 Pandas로 주행 데이터를 분석해보겠습니다!\")\n",
        "print(\"=\"*60)"
      ],
      "metadata": {
        "colab": {
          "base_uri": "https://localhost:8080/"
        },
        "id": "8iySmJvJD2Pf",
        "outputId": "25beadfc-fb05-4ab0-d7a6-d81d5180b232"
      },
      "execution_count": 80,
      "outputs": [
        {
          "output_type": "stream",
          "name": "stdout",
          "text": [
            ":mortar_board: NumPy 기초 학습 완료!\n",
            ":books: 학습한 내용:\n",
            "   :white_check_mark: 배열 생성 및 기본 연산\n",
            "   :white_check_mark: 통계 함수 (평균, 최대, 최소 등)\n",
            "   :white_check_mark: 조건부 필터링 (위험 감지)\n",
            "   :white_check_mark: 2D 배열 (센서 매트릭스)\n",
            "   :white_check_mark: GPS 좌표 처리\n",
            "   :white_check_mark: 경로 생성 및 거리 계산\n",
            "   :white_check_mark: 장애물 감지 및 안전 반경 체크\n",
            "\n",
            ":red_car: 다음은 Pandas로 주행 데이터를 분석해보겠습니다!\n",
            "============================================================\n"
          ]
        }
      ]
    }
  ]
}